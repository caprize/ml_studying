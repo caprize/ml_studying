{
 "cells": [
  {
   "cell_type": "markdown",
   "metadata": {
    "id": "TK7oX5qdEEYr"
   },
   "source": [
    "<p style=\"align: center;\"><img align=center src=\"https://s8.hostingkartinok.com/uploads/images/2018/08/308b49fcfbc619d629fe4604bceb67ac.jpg\" width=500 height=450/></p>\n",
    "\n",
    "<h3 style=\"text-align: center;\"><b>Школа глубокого обучения ФПМИ МФТИ</b></h3>\n",
    "\n",
    "<h3 style=\"text-align: center;\"><b>Домашнее задание. Продвинутый поток. Весна 2021</b></h3>\n",
    "\n",
    "Это домашнее задание будет посвящено полноценному решению задачи машинного обучения."
   ]
  },
  {
   "cell_type": "markdown",
   "metadata": {
    "id": "zlB-owfaEEYs"
   },
   "source": [
    "Есть две части этого домашнего задания: \n",
    "* Сделать полноценный отчет о вашей работе: как вы обработали данные, какие модели попробовали и какие результаты получились (максимум 10 баллов). За каждую выполненную часть будет начислено определенное количество баллов.\n",
    "* Лучшее решение отправить в соревнование на [kaggle](https://www.kaggle.com/c/advanced-dls-spring-2021/) (максимум 5 баллов). За прохождение определенного порогов будут начисляться баллы.\n",
    "\n",
    "\n",
    "**Обе части будут проверяться в формате peer-review. Т.е. вашу посылку на степик будут проверять несколько других студентов и аггрегация их оценок будет выставлена. В то же время вам тоже нужно будет проверить несколько других учеников.**\n",
    "\n",
    "**Пожалуйста, делайте свою работу чистой и понятной, чтобы облегчить проверку. Если у вас будут проблемы с решением или хочется совета, то пишите в наш чат в телеграме или в лс @runfme. Если вы захотите проаппелировать оценку, то пипшите в лс @runfme.**\n",
    "\n",
    "**Во всех пунктах указания это минимальный набор вещей, которые стоит сделать. Если вы можете сделать какой-то шаг лучше или добавить что-то свое - дерзайте!**"
   ]
  },
  {
   "cell_type": "markdown",
   "metadata": {
    "id": "Tu_JvqcBEN8Y"
   },
   "source": [
    "# Как проверять?\n",
    "\n",
    "Ставьте полный балл, если выполнены все рекомендации или сделано что-то более интересное и сложное. За каждый отсустствующий пункт из рекомендация снижайте 1 балл."
   ]
  },
  {
   "cell_type": "markdown",
   "metadata": {
    "id": "ninJ63mJEEYt"
   },
   "source": [
    "# Метрика\n",
    "\n",
    "Перед решением любой задачи важно понимать, как будет оцениваться ваше решение. В данном случае мы используем стандартную для задачи классификации метрику ROC-AUC. Ее можно вычислить используя только предсказанные вероятности и истинные классы без конкретного порога классификации + она раотает даже если классы в данных сильно несбалансированны (примеров одного класса в десятки раз больше примеров длугого). Именно поэтому она очень удобна для соревнований.\n",
    "\n",
    "Посчитать ее легко:\n"
   ]
  },
  {
   "cell_type": "code",
   "execution_count": 331,
   "metadata": {
    "id": "SQIrka7yEEYu",
    "outputId": "ef45a9f2-7571-47b1-e697-b474b65cb0fb"
   },
   "outputs": [
    {
     "data": {
      "text/plain": [
       "0.8333333333333333"
      ]
     },
     "execution_count": 331,
     "metadata": {},
     "output_type": "execute_result"
    }
   ],
   "source": [
    "from sklearn.metrics import roc_auc_score\n",
    "\n",
    "y_true = [\n",
    "    0,\n",
    "    1,\n",
    "    1,\n",
    "    0,\n",
    "    1\n",
    "]\n",
    "\n",
    "y_predictions = [\n",
    "    0.1,\n",
    "    0.9,\n",
    "    0.4,\n",
    "    0.6,\n",
    "    0.61\n",
    "]\n",
    "\n",
    "roc_auc_score(y_true, y_predictions)"
   ]
  },
  {
   "cell_type": "markdown",
   "metadata": {
    "id": "IrDNNkNTEEYz"
   },
   "source": [
    "# Первая часть. Исследование"
   ]
  },
  {
   "cell_type": "code",
   "execution_count": 517,
   "metadata": {
    "id": "lzLqEeZKEEYz"
   },
   "outputs": [],
   "source": [
    "import pandas as pd\n",
    "import numpy as np\n",
    "from matplotlib import pyplot as plt"
   ]
  },
  {
   "cell_type": "markdown",
   "metadata": {
    "id": "LOlxdURSEEY3"
   },
   "source": [
    "## Загрузка данных (2 балла)\n",
    "\n",
    "1) Посмотрите на случайные строчки. \n",
    "\n",
    "2) Посмотрите, есть ли в датасете незаполненные значения (nan'ы) с помощью data.isna() или data.info() и, если нужно, замените их на что-то. Будет хорошо, если вы построите табличку с количеством nan в каждой колонке."
   ]
  },
  {
   "cell_type": "code",
   "execution_count": 518,
   "metadata": {
    "id": "pw-Brue9EEY3"
   },
   "outputs": [
    {
     "data": {
      "text/html": [
       "<div>\n",
       "<style scoped>\n",
       "    .dataframe tbody tr th:only-of-type {\n",
       "        vertical-align: middle;\n",
       "    }\n",
       "\n",
       "    .dataframe tbody tr th {\n",
       "        vertical-align: top;\n",
       "    }\n",
       "\n",
       "    .dataframe thead th {\n",
       "        text-align: right;\n",
       "    }\n",
       "</style>\n",
       "<table border=\"1\" class=\"dataframe\">\n",
       "  <thead>\n",
       "    <tr style=\"text-align: right;\">\n",
       "      <th></th>\n",
       "      <th>ClientPeriod</th>\n",
       "      <th>MonthlySpending</th>\n",
       "      <th>TotalSpent</th>\n",
       "      <th>Sex</th>\n",
       "      <th>IsSeniorCitizen</th>\n",
       "      <th>HasPartner</th>\n",
       "      <th>HasChild</th>\n",
       "      <th>HasPhoneService</th>\n",
       "      <th>HasMultiplePhoneNumbers</th>\n",
       "      <th>HasInternetService</th>\n",
       "      <th>HasOnlineSecurityService</th>\n",
       "      <th>HasOnlineBackup</th>\n",
       "      <th>HasDeviceProtection</th>\n",
       "      <th>HasTechSupportAccess</th>\n",
       "      <th>HasOnlineTV</th>\n",
       "      <th>HasMovieSubscription</th>\n",
       "      <th>HasContractPhone</th>\n",
       "      <th>IsBillingPaperless</th>\n",
       "      <th>PaymentMethod</th>\n",
       "      <th>Churn</th>\n",
       "    </tr>\n",
       "  </thead>\n",
       "  <tbody>\n",
       "    <tr>\n",
       "      <th>0</th>\n",
       "      <td>55</td>\n",
       "      <td>19.50</td>\n",
       "      <td>1026.35</td>\n",
       "      <td>Male</td>\n",
       "      <td>0</td>\n",
       "      <td>Yes</td>\n",
       "      <td>Yes</td>\n",
       "      <td>Yes</td>\n",
       "      <td>No</td>\n",
       "      <td>No</td>\n",
       "      <td>No internet service</td>\n",
       "      <td>No internet service</td>\n",
       "      <td>No internet service</td>\n",
       "      <td>No internet service</td>\n",
       "      <td>No internet service</td>\n",
       "      <td>No internet service</td>\n",
       "      <td>One year</td>\n",
       "      <td>No</td>\n",
       "      <td>Mailed check</td>\n",
       "      <td>0</td>\n",
       "    </tr>\n",
       "    <tr>\n",
       "      <th>1</th>\n",
       "      <td>72</td>\n",
       "      <td>25.85</td>\n",
       "      <td>1872.2</td>\n",
       "      <td>Male</td>\n",
       "      <td>0</td>\n",
       "      <td>Yes</td>\n",
       "      <td>No</td>\n",
       "      <td>Yes</td>\n",
       "      <td>Yes</td>\n",
       "      <td>No</td>\n",
       "      <td>No internet service</td>\n",
       "      <td>No internet service</td>\n",
       "      <td>No internet service</td>\n",
       "      <td>No internet service</td>\n",
       "      <td>No internet service</td>\n",
       "      <td>No internet service</td>\n",
       "      <td>Two year</td>\n",
       "      <td>No</td>\n",
       "      <td>Credit card (automatic)</td>\n",
       "      <td>0</td>\n",
       "    </tr>\n",
       "    <tr>\n",
       "      <th>2</th>\n",
       "      <td>1</td>\n",
       "      <td>75.90</td>\n",
       "      <td>75.9</td>\n",
       "      <td>Male</td>\n",
       "      <td>0</td>\n",
       "      <td>No</td>\n",
       "      <td>No</td>\n",
       "      <td>Yes</td>\n",
       "      <td>No</td>\n",
       "      <td>Fiber optic</td>\n",
       "      <td>No</td>\n",
       "      <td>No</td>\n",
       "      <td>No</td>\n",
       "      <td>Yes</td>\n",
       "      <td>No</td>\n",
       "      <td>No</td>\n",
       "      <td>Month-to-month</td>\n",
       "      <td>Yes</td>\n",
       "      <td>Electronic check</td>\n",
       "      <td>1</td>\n",
       "    </tr>\n",
       "    <tr>\n",
       "      <th>3</th>\n",
       "      <td>32</td>\n",
       "      <td>79.30</td>\n",
       "      <td>2570</td>\n",
       "      <td>Female</td>\n",
       "      <td>1</td>\n",
       "      <td>Yes</td>\n",
       "      <td>No</td>\n",
       "      <td>Yes</td>\n",
       "      <td>Yes</td>\n",
       "      <td>Fiber optic</td>\n",
       "      <td>No</td>\n",
       "      <td>No</td>\n",
       "      <td>Yes</td>\n",
       "      <td>No</td>\n",
       "      <td>No</td>\n",
       "      <td>No</td>\n",
       "      <td>Month-to-month</td>\n",
       "      <td>No</td>\n",
       "      <td>Mailed check</td>\n",
       "      <td>0</td>\n",
       "    </tr>\n",
       "    <tr>\n",
       "      <th>4</th>\n",
       "      <td>60</td>\n",
       "      <td>115.25</td>\n",
       "      <td>6758.45</td>\n",
       "      <td>Female</td>\n",
       "      <td>0</td>\n",
       "      <td>Yes</td>\n",
       "      <td>Yes</td>\n",
       "      <td>Yes</td>\n",
       "      <td>Yes</td>\n",
       "      <td>Fiber optic</td>\n",
       "      <td>Yes</td>\n",
       "      <td>Yes</td>\n",
       "      <td>Yes</td>\n",
       "      <td>Yes</td>\n",
       "      <td>Yes</td>\n",
       "      <td>Yes</td>\n",
       "      <td>Two year</td>\n",
       "      <td>No</td>\n",
       "      <td>Credit card (automatic)</td>\n",
       "      <td>0</td>\n",
       "    </tr>\n",
       "  </tbody>\n",
       "</table>\n",
       "</div>"
      ],
      "text/plain": [
       "   ClientPeriod  MonthlySpending TotalSpent     Sex  IsSeniorCitizen  \\\n",
       "0            55            19.50    1026.35    Male                0   \n",
       "1            72            25.85     1872.2    Male                0   \n",
       "2             1            75.90       75.9    Male                0   \n",
       "3            32            79.30       2570  Female                1   \n",
       "4            60           115.25    6758.45  Female                0   \n",
       "\n",
       "  HasPartner HasChild HasPhoneService HasMultiplePhoneNumbers  \\\n",
       "0        Yes      Yes             Yes                      No   \n",
       "1        Yes       No             Yes                     Yes   \n",
       "2         No       No             Yes                      No   \n",
       "3        Yes       No             Yes                     Yes   \n",
       "4        Yes      Yes             Yes                     Yes   \n",
       "\n",
       "  HasInternetService HasOnlineSecurityService      HasOnlineBackup  \\\n",
       "0                 No      No internet service  No internet service   \n",
       "1                 No      No internet service  No internet service   \n",
       "2        Fiber optic                       No                   No   \n",
       "3        Fiber optic                       No                   No   \n",
       "4        Fiber optic                      Yes                  Yes   \n",
       "\n",
       "   HasDeviceProtection HasTechSupportAccess          HasOnlineTV  \\\n",
       "0  No internet service  No internet service  No internet service   \n",
       "1  No internet service  No internet service  No internet service   \n",
       "2                   No                  Yes                   No   \n",
       "3                  Yes                   No                   No   \n",
       "4                  Yes                  Yes                  Yes   \n",
       "\n",
       "  HasMovieSubscription HasContractPhone IsBillingPaperless  \\\n",
       "0  No internet service         One year                 No   \n",
       "1  No internet service         Two year                 No   \n",
       "2                   No   Month-to-month                Yes   \n",
       "3                   No   Month-to-month                 No   \n",
       "4                  Yes         Two year                 No   \n",
       "\n",
       "             PaymentMethod  Churn  \n",
       "0             Mailed check      0  \n",
       "1  Credit card (automatic)      0  \n",
       "2         Electronic check      1  \n",
       "3             Mailed check      0  \n",
       "4  Credit card (automatic)      0  "
      ]
     },
     "execution_count": 518,
     "metadata": {},
     "output_type": "execute_result"
    }
   ],
   "source": [
    "data = pd.read_csv('/home/caprize/Загрузки/dls_first/advanced-dls-spring-2021/train.csv')\n",
    "data.head()\n"
   ]
  },
  {
   "cell_type": "code",
   "execution_count": 519,
   "metadata": {},
   "outputs": [
    {
     "name": "stdout",
     "output_type": "stream",
     "text": [
      "<class 'pandas.core.frame.DataFrame'>\n",
      "RangeIndex: 5282 entries, 0 to 5281\n",
      "Data columns (total 20 columns):\n",
      " #   Column                    Non-Null Count  Dtype  \n",
      "---  ------                    --------------  -----  \n",
      " 0   ClientPeriod              5282 non-null   int64  \n",
      " 1   MonthlySpending           5282 non-null   float64\n",
      " 2   TotalSpent                5282 non-null   object \n",
      " 3   Sex                       5282 non-null   object \n",
      " 4   IsSeniorCitizen           5282 non-null   int64  \n",
      " 5   HasPartner                5282 non-null   object \n",
      " 6   HasChild                  5282 non-null   object \n",
      " 7   HasPhoneService           5282 non-null   object \n",
      " 8   HasMultiplePhoneNumbers   5282 non-null   object \n",
      " 9   HasInternetService        5282 non-null   object \n",
      " 10  HasOnlineSecurityService  5282 non-null   object \n",
      " 11  HasOnlineBackup           5282 non-null   object \n",
      " 12  HasDeviceProtection       5282 non-null   object \n",
      " 13  HasTechSupportAccess      5282 non-null   object \n",
      " 14  HasOnlineTV               5282 non-null   object \n",
      " 15  HasMovieSubscription      5282 non-null   object \n",
      " 16  HasContractPhone          5282 non-null   object \n",
      " 17  IsBillingPaperless        5282 non-null   object \n",
      " 18  PaymentMethod             5282 non-null   object \n",
      " 19  Churn                     5282 non-null   int64  \n",
      "dtypes: float64(1), int64(3), object(16)\n",
      "memory usage: 825.4+ KB\n"
     ]
    }
   ],
   "source": [
    "data.info()"
   ]
  },
  {
   "cell_type": "code",
   "execution_count": 520,
   "metadata": {
    "id": "KgnkkF5bEEY9"
   },
   "outputs": [],
   "source": [
    "# Для вашего удобства списки с именами разных колонок\n",
    "\n",
    "# Числовые признаки\n",
    "num_cols = [\n",
    "    'ClientPeriod',\n",
    "    'MonthlySpending',\n",
    "    'TotalSpent',\n",
    "]\n",
    "\n",
    "# Категориальные признаки\n",
    "cat_cols = [\n",
    "    'Sex',\n",
    "    'IsSeniorCitizen',\n",
    "    'HasPartner',\n",
    "    'HasChild',\n",
    "    'HasPhoneService',\n",
    "    'HasMultiplePhoneNumbers',\n",
    "    'HasInternetService',\n",
    "    'HasOnlineSecurityService',\n",
    "    'HasOnlineBackup',\n",
    "    'HasDeviceProtection',\n",
    "    'HasTechSupportAccess',\n",
    "    'HasOnlineTV',\n",
    "    'HasMovieSubscription',\n",
    "    'HasContractPhone',\n",
    "    'IsBillingPaperless',\n",
    "    'PaymentMethod'\n",
    "]\n",
    "\n",
    "feature_cols = num_cols + cat_cols\n",
    "target_col = 'Churn'"
   ]
  },
  {
   "cell_type": "code",
   "execution_count": 521,
   "metadata": {
    "id": "tHC6gWabEEZA"
   },
   "outputs": [
    {
     "data": {
      "text/plain": [
       "ClientPeriod                0.0\n",
       "MonthlySpending             0.0\n",
       "TotalSpent                  0.0\n",
       "Sex                         0.0\n",
       "IsSeniorCitizen             0.0\n",
       "HasPartner                  0.0\n",
       "HasChild                    0.0\n",
       "HasPhoneService             0.0\n",
       "HasMultiplePhoneNumbers     0.0\n",
       "HasInternetService          0.0\n",
       "HasOnlineSecurityService    0.0\n",
       "HasOnlineBackup             0.0\n",
       "HasDeviceProtection         0.0\n",
       "HasTechSupportAccess        0.0\n",
       "HasOnlineTV                 0.0\n",
       "HasMovieSubscription        0.0\n",
       "HasContractPhone            0.0\n",
       "IsBillingPaperless          0.0\n",
       "PaymentMethod               0.0\n",
       "Churn                       0.0\n",
       "dtype: float64"
      ]
     },
     "execution_count": 521,
     "metadata": {},
     "output_type": "execute_result"
    }
   ],
   "source": [
    "data.isna().mean()"
   ]
  },
  {
   "cell_type": "markdown",
   "metadata": {},
   "source": [
    "Замена пустых строк и приведение к типу float"
   ]
  },
  {
   "cell_type": "code",
   "execution_count": 522,
   "metadata": {},
   "outputs": [],
   "source": [
    "data['TotalSpent'] = data['TotalSpent'].replace(' ',0.0)\n",
    "data['TotalSpent'] = data['TotalSpent'].astype(float)"
   ]
  },
  {
   "cell_type": "markdown",
   "metadata": {
    "id": "dK370bPCEEZD"
   },
   "source": [
    "## Анализ данных (3 балла)\n",
    "\n",
    "1) Для численных призанков постройте гистограмму (*plt.hist(...)*) или boxplot (*plt.boxplot(...)*). Для категориальных посчитайте количество каждого значения для каждого признака. Для каждой колонки надо сделать *data.value_counts()* и построить bar диаграммы *plt.bar(...)* или круговые диаграммы *plt.pie(...)* (хорошо, елси вы сможете это сделать на одном гарфике с помощью *plt.subplots(...)*). \n",
    "\n",
    "2) Посмотрите на распределение целевой переменной и скажите, являются ли классы несбалансированными.\n",
    "\n",
    "3) (Если будет желание) Поиграйте с разными библиотеками для визуализации - *sns*, *pandas_visual_analysis*, etc.\n",
    "\n",
    "Второй пункт очень важен, потому что существуют задачи классификации с несбалансированными классами. Например, это может значить, что в датасете намного больше примеров 0 класса. В таких случаях нужно 1) не использовать accuracy как метрику 2) использовать методы борьбы с imbalanced dataset (обычно если датасет сильно несбалансирован, т.е. класса 1 в 20 раз меньше класса 0)."
   ]
  },
  {
   "cell_type": "code",
   "execution_count": 337,
   "metadata": {
    "id": "NZkbgFJZEEZE"
   },
   "outputs": [
    {
     "data": {
      "text/plain": [
       "array([[<AxesSubplot:title={'center':'ClientPeriod'}>,\n",
       "        <AxesSubplot:title={'center':'MonthlySpending'}>],\n",
       "       [<AxesSubplot:title={'center':'TotalSpent'}>, <AxesSubplot:>]],\n",
       "      dtype=object)"
      ]
     },
     "execution_count": 337,
     "metadata": {},
     "output_type": "execute_result"
    },
    {
     "data": {
      "image/png": "[encoded data removed]",
      "text/plain": [
       "<Figure size 720x576 with 4 Axes>"
      ]
     },
     "metadata": {
      "needs_background": "light"
     },
     "output_type": "display_data"
    }
   ],
   "source": [
    "data.hist(column=num_cols,figsize=(10,8))"
   ]
  },
  {
   "cell_type": "code",
   "execution_count": 338,
   "metadata": {},
   "outputs": [
    {
     "data": {
      "image/png": "[encoded data removed]",
      "text/plain": [
       "<Figure size 432x288 with 1 Axes>"
      ]
     },
     "metadata": {
      "needs_background": "light"
     },
     "output_type": "display_data"
    },
    {
     "data": {
      "image/png": "[encoded data removed]",
      "text/plain": [
       "<Figure size 432x288 with 1 Axes>"
      ]
     },
     "metadata": {
      "needs_background": "light"
     },
     "output_type": "display_data"
    },
    {
     "data": {
      "image/png": "[encoded data removed]",
      "text/plain": [
       "<Figure size 432x288 with 1 Axes>"
      ]
     },
     "metadata": {
      "needs_background": "light"
     },
     "output_type": "display_data"
    },
    {
     "data": {
      "image/png": "[encoded data removed]",
      "text/plain": [
       "<Figure size 432x288 with 1 Axes>"
      ]
     },
     "metadata": {
      "needs_background": "light"
     },
     "output_type": "display_data"
    },
    {
     "data": {
      "image/png": "[encoded data removed]",
      "text/plain": [
       "<Figure size 432x288 with 1 Axes>"
      ]
     },
     "metadata": {
      "needs_background": "light"
     },
     "output_type": "display_data"
    },
    {
     "data": {
      "image/png": "[encoded data removed]",
      "text/plain": [
       "<Figure size 432x288 with 1 Axes>"
      ]
     },
     "metadata": {
      "needs_background": "light"
     },
     "output_type": "display_data"
    },
    {
     "data": {
      "image/png": "[encoded data removed]",
      "text/plain": [
       "<Figure size 432x288 with 1 Axes>"
      ]
     },
     "metadata": {
      "needs_background": "light"
     },
     "output_type": "display_data"
    },
    {
     "data": {
      "image/png": "[encoded data removed]",
      "text/plain": [
       "<Figure size 432x288 with 1 Axes>"
      ]
     },
     "metadata": {
      "needs_background": "light"
     },
     "output_type": "display_data"
    },
    {
     "data": {
      "image/png": "[encoded data removed]",
      "text/plain": [
       "<Figure size 432x288 with 1 Axes>"
      ]
     },
     "metadata": {
      "needs_background": "light"
     },
     "output_type": "display_data"
    },
    {
     "data": {
      "image/png": "[encoded data removed]",
      "text/plain": [
       "<Figure size 432x288 with 1 Axes>"
      ]
     },
     "metadata": {
      "needs_background": "light"
     },
     "output_type": "display_data"
    },
    {
     "data": {
      "image/png": "[encoded data removed]",
      "text/plain": [
       "<Figure size 432x288 with 1 Axes>"
      ]
     },
     "metadata": {
      "needs_background": "light"
     },
     "output_type": "display_data"
    },
    {
     "data": {
      "image/png": "[encoded data removed]",
      "text/plain": [
       "<Figure size 432x288 with 1 Axes>"
      ]
     },
     "metadata": {
      "needs_background": "light"
     },
     "output_type": "display_data"
    },
    {
     "data": {
      "image/png": "[encoded data removed]",
      "text/plain": [
       "<Figure size 432x288 with 1 Axes>"
      ]
     },
     "metadata": {
      "needs_background": "light"
     },
     "output_type": "display_data"
    },
    {
     "data": {
      "image/png": "[encoded data removed]",
      "text/plain": [
       "<Figure size 432x288 with 1 Axes>"
      ]
     },
     "metadata": {
      "needs_background": "light"
     },
     "output_type": "display_data"
    },
    {
     "data": {
      "image/png": "[encoded data removed]",
      "text/plain": [
       "<Figure size 432x288 with 1 Axes>"
      ]
     },
     "metadata": {
      "needs_background": "light"
     },
     "output_type": "display_data"
    },
    {
     "data": {
      "image/png": "[encoded data removed]",
      "text/plain": [
       "<Figure size 432x288 with 1 Axes>"
      ]
     },
     "metadata": {
      "needs_background": "light"
     },
     "output_type": "display_data"
    },
    {
     "data": {
      "image/png": "[encoded data removed]",
      "text/plain": [
       "<Figure size 432x288 with 1 Axes>"
      ]
     },
     "metadata": {
      "needs_background": "light"
     },
     "output_type": "display_data"
    }
   ],
   "source": [
    "a = []\n",
    "for col in cat_cols:\n",
    "    a.append(data[col].value_counts())\n",
    "for i in a:\n",
    "    i = i.plot(kind='bar')\n",
    "    i = plt.subplots()"
   ]
  },
  {
   "cell_type": "code",
   "execution_count": 339,
   "metadata": {},
   "outputs": [
    {
     "data": {
      "image/png": "[encoded data removed]",
      "text/plain": [
       "<Figure size 720x576 with 1 Axes>"
      ]
     },
     "metadata": {
      "needs_background": "light"
     },
     "output_type": "display_data"
    }
   ],
   "source": [
    "data.hist(column=[target_col],figsize=(10,8))\n",
    "None"
   ]
  },
  {
   "cell_type": "markdown",
   "metadata": {},
   "source": [
    "Как видим первый класс превалирует над первым, но не критично"
   ]
  },
  {
   "cell_type": "markdown",
   "metadata": {
    "id": "zg60u3QDEEZH"
   },
   "source": [
    "(Дополнительно) Если вы нашли какие-то ошибки в данных или выбросы, то можете их убрать. Тут можно поэксперементировать с обработкой данных как угодно, но не за баллы."
   ]
  },
  {
   "cell_type": "code",
   "execution_count": null,
   "metadata": {},
   "outputs": [],
   "source": []
  },
  {
   "cell_type": "markdown",
   "metadata": {
    "id": "DviiJd8REEZK"
   },
   "source": [
    "## Применение линейных моделей (3 балла)\n",
    "\n",
    "1) Обработайте данные для того, чтобы к ним можно было применить LogisticRegression. Т.е. отнормируйте числовые признаки, а категориальные закодируйте с помощью one-hot-encoding'а. \n",
    "\n",
    "2) С помощью кроссвалидации или разделения на train/valid выборку протестируйте разные значения гиперпараметра C и выберите лучший (можно тестировать С=100, 10, 1, 0.1, 0.01, 0.001) по метрике ROC-AUC. \n",
    "\n",
    "Если вы разделяете на train/valid, то используйте LogisticRegressionCV. Он сам при вызове .fit() подберет параметр С. (не забудьте передать scroing='roc_auc', чтобы при кроссвалидации сравнивались значения этой метрики, и refit=True, чтобы при потом модель обучилась на всем датасете с лучшим параметром C). \n",
    "\n",
    "\n",
    "(более сложный вариант) Если вы будете использовать кроссвалидацию, то преобразования данных и LogisticRegression нужно соединить в один Pipeline с помощью make_pipeline, как это делалось во втором семинаре. Потом pipeline надо передать в GridSearchCV. Для one-hot-encoding'a можно испльзовать комбинацию LabelEncoder + OneHotEncoder (сначала превращаем строчки в числа, а потом числа првращаем в one-hot вектора.)"
   ]
  },
  {
   "cell_type": "code",
   "execution_count": 500,
   "metadata": {
    "id": "xHCLDmwqEEZL"
   },
   "outputs": [],
   "source": [
    "from sklearn.linear_model import LogisticRegression, LogisticRegressionCV\n",
    "from sklearn.model_selection import train_test_split, GridSearchCV\n",
    "from sklearn.preprocessing import StandardScaler, RobustScaler, LabelEncoder, OneHotEncoder\n",
    "from sklearn.pipeline import make_pipeline"
   ]
  },
  {
   "cell_type": "code",
   "execution_count": 501,
   "metadata": {
    "id": "P2Yv3uYtEEZO"
   },
   "outputs": [
    {
     "data": {
      "text/html": [
       "<div>\n",
       "<style scoped>\n",
       "    .dataframe tbody tr th:only-of-type {\n",
       "        vertical-align: middle;\n",
       "    }\n",
       "\n",
       "    .dataframe tbody tr th {\n",
       "        vertical-align: top;\n",
       "    }\n",
       "\n",
       "    .dataframe thead th {\n",
       "        text-align: right;\n",
       "    }\n",
       "</style>\n",
       "<table border=\"1\" class=\"dataframe\">\n",
       "  <thead>\n",
       "    <tr style=\"text-align: right;\">\n",
       "      <th></th>\n",
       "      <th>ClientPeriod</th>\n",
       "      <th>MonthlySpending</th>\n",
       "      <th>TotalSpent</th>\n",
       "      <th>IsSeniorCitizen</th>\n",
       "      <th>Sex_Female</th>\n",
       "      <th>Sex_Male</th>\n",
       "      <th>HasPartner_No</th>\n",
       "      <th>HasPartner_Yes</th>\n",
       "      <th>HasChild_No</th>\n",
       "      <th>HasChild_Yes</th>\n",
       "      <th>...</th>\n",
       "      <th>HasMovieSubscription_Yes</th>\n",
       "      <th>HasContractPhone_Month-to-month</th>\n",
       "      <th>HasContractPhone_One year</th>\n",
       "      <th>HasContractPhone_Two year</th>\n",
       "      <th>IsBillingPaperless_No</th>\n",
       "      <th>IsBillingPaperless_Yes</th>\n",
       "      <th>PaymentMethod_Bank transfer (automatic)</th>\n",
       "      <th>PaymentMethod_Credit card (automatic)</th>\n",
       "      <th>PaymentMethod_Electronic check</th>\n",
       "      <th>PaymentMethod_Mailed check</th>\n",
       "    </tr>\n",
       "  </thead>\n",
       "  <tbody>\n",
       "    <tr>\n",
       "      <th>0</th>\n",
       "      <td>55</td>\n",
       "      <td>19.50</td>\n",
       "      <td>1026.35</td>\n",
       "      <td>0</td>\n",
       "      <td>0</td>\n",
       "      <td>1</td>\n",
       "      <td>0</td>\n",
       "      <td>1</td>\n",
       "      <td>0</td>\n",
       "      <td>1</td>\n",
       "      <td>...</td>\n",
       "      <td>0</td>\n",
       "      <td>0</td>\n",
       "      <td>1</td>\n",
       "      <td>0</td>\n",
       "      <td>1</td>\n",
       "      <td>0</td>\n",
       "      <td>0</td>\n",
       "      <td>0</td>\n",
       "      <td>0</td>\n",
       "      <td>1</td>\n",
       "    </tr>\n",
       "    <tr>\n",
       "      <th>1</th>\n",
       "      <td>72</td>\n",
       "      <td>25.85</td>\n",
       "      <td>1872.20</td>\n",
       "      <td>0</td>\n",
       "      <td>0</td>\n",
       "      <td>1</td>\n",
       "      <td>0</td>\n",
       "      <td>1</td>\n",
       "      <td>1</td>\n",
       "      <td>0</td>\n",
       "      <td>...</td>\n",
       "      <td>0</td>\n",
       "      <td>0</td>\n",
       "      <td>0</td>\n",
       "      <td>1</td>\n",
       "      <td>1</td>\n",
       "      <td>0</td>\n",
       "      <td>0</td>\n",
       "      <td>1</td>\n",
       "      <td>0</td>\n",
       "      <td>0</td>\n",
       "    </tr>\n",
       "    <tr>\n",
       "      <th>2</th>\n",
       "      <td>1</td>\n",
       "      <td>75.90</td>\n",
       "      <td>75.90</td>\n",
       "      <td>0</td>\n",
       "      <td>0</td>\n",
       "      <td>1</td>\n",
       "      <td>1</td>\n",
       "      <td>0</td>\n",
       "      <td>1</td>\n",
       "      <td>0</td>\n",
       "      <td>...</td>\n",
       "      <td>0</td>\n",
       "      <td>1</td>\n",
       "      <td>0</td>\n",
       "      <td>0</td>\n",
       "      <td>0</td>\n",
       "      <td>1</td>\n",
       "      <td>0</td>\n",
       "      <td>0</td>\n",
       "      <td>1</td>\n",
       "      <td>0</td>\n",
       "    </tr>\n",
       "    <tr>\n",
       "      <th>3</th>\n",
       "      <td>32</td>\n",
       "      <td>79.30</td>\n",
       "      <td>2570.00</td>\n",
       "      <td>1</td>\n",
       "      <td>1</td>\n",
       "      <td>0</td>\n",
       "      <td>0</td>\n",
       "      <td>1</td>\n",
       "      <td>1</td>\n",
       "      <td>0</td>\n",
       "      <td>...</td>\n",
       "      <td>0</td>\n",
       "      <td>1</td>\n",
       "      <td>0</td>\n",
       "      <td>0</td>\n",
       "      <td>1</td>\n",
       "      <td>0</td>\n",
       "      <td>0</td>\n",
       "      <td>0</td>\n",
       "      <td>0</td>\n",
       "      <td>1</td>\n",
       "    </tr>\n",
       "    <tr>\n",
       "      <th>4</th>\n",
       "      <td>60</td>\n",
       "      <td>115.25</td>\n",
       "      <td>6758.45</td>\n",
       "      <td>0</td>\n",
       "      <td>1</td>\n",
       "      <td>0</td>\n",
       "      <td>0</td>\n",
       "      <td>1</td>\n",
       "      <td>0</td>\n",
       "      <td>1</td>\n",
       "      <td>...</td>\n",
       "      <td>1</td>\n",
       "      <td>0</td>\n",
       "      <td>0</td>\n",
       "      <td>1</td>\n",
       "      <td>1</td>\n",
       "      <td>0</td>\n",
       "      <td>0</td>\n",
       "      <td>1</td>\n",
       "      <td>0</td>\n",
       "      <td>0</td>\n",
       "    </tr>\n",
       "  </tbody>\n",
       "</table>\n",
       "<p>5 rows × 45 columns</p>\n",
       "</div>"
      ],
      "text/plain": [
       "   ClientPeriod  MonthlySpending  TotalSpent  IsSeniorCitizen  Sex_Female  \\\n",
       "0            55            19.50     1026.35                0           0   \n",
       "1            72            25.85     1872.20                0           0   \n",
       "2             1            75.90       75.90                0           0   \n",
       "3            32            79.30     2570.00                1           1   \n",
       "4            60           115.25     6758.45                0           1   \n",
       "\n",
       "   Sex_Male  HasPartner_No  HasPartner_Yes  HasChild_No  HasChild_Yes  ...  \\\n",
       "0         1              0               1            0             1  ...   \n",
       "1         1              0               1            1             0  ...   \n",
       "2         1              1               0            1             0  ...   \n",
       "3         0              0               1            1             0  ...   \n",
       "4         0              0               1            0             1  ...   \n",
       "\n",
       "   HasMovieSubscription_Yes  HasContractPhone_Month-to-month  \\\n",
       "0                         0                                0   \n",
       "1                         0                                0   \n",
       "2                         0                                1   \n",
       "3                         0                                1   \n",
       "4                         1                                0   \n",
       "\n",
       "   HasContractPhone_One year  HasContractPhone_Two year  \\\n",
       "0                          1                          0   \n",
       "1                          0                          1   \n",
       "2                          0                          0   \n",
       "3                          0                          0   \n",
       "4                          0                          1   \n",
       "\n",
       "   IsBillingPaperless_No  IsBillingPaperless_Yes  \\\n",
       "0                      1                       0   \n",
       "1                      1                       0   \n",
       "2                      0                       1   \n",
       "3                      1                       0   \n",
       "4                      1                       0   \n",
       "\n",
       "   PaymentMethod_Bank transfer (automatic)  \\\n",
       "0                                        0   \n",
       "1                                        0   \n",
       "2                                        0   \n",
       "3                                        0   \n",
       "4                                        0   \n",
       "\n",
       "   PaymentMethod_Credit card (automatic)  PaymentMethod_Electronic check  \\\n",
       "0                                      0                               0   \n",
       "1                                      1                               0   \n",
       "2                                      0                               1   \n",
       "3                                      0                               0   \n",
       "4                                      1                               0   \n",
       "\n",
       "   PaymentMethod_Mailed check  \n",
       "0                           1  \n",
       "1                           0  \n",
       "2                           0  \n",
       "3                           1  \n",
       "4                           0  \n",
       "\n",
       "[5 rows x 45 columns]"
      ]
     },
     "execution_count": 501,
     "metadata": {},
     "output_type": "execute_result"
    }
   ],
   "source": [
    "dummy_features = pd.get_dummies(data[cat_cols])\n",
    "X = pd.concat([data[num_cols], dummy_features], axis=1)\n",
    "X_origin = data.iloc[:, :-1]\n",
    "X.head()"
   ]
  },
  {
   "cell_type": "code",
   "execution_count": 502,
   "metadata": {},
   "outputs": [],
   "source": [
    "y = data[target_col]"
   ]
  },
  {
   "cell_type": "code",
   "execution_count": 503,
   "metadata": {},
   "outputs": [],
   "source": [
    "X_train, X_test, y_train, y_test = train_test_split(X.values, y.values, \n",
    "                                                    train_size=0.8,\n",
    "                                                    random_state=42)"
   ]
  },
  {
   "cell_type": "code",
   "execution_count": 504,
   "metadata": {},
   "outputs": [],
   "source": [
    "scaler = StandardScaler()\n",
    "X_train_scaled = scaler.fit_transform(X_train)\n",
    "X_test_scaled = scaler.transform(X_test)"
   ]
  },
  {
   "cell_type": "code",
   "execution_count": 505,
   "metadata": {},
   "outputs": [
    {
     "data": {
      "text/plain": [
       "0.8134911242603551"
      ]
     },
     "execution_count": 505,
     "metadata": {},
     "output_type": "execute_result"
    }
   ],
   "source": [
    "model = LogisticRegression(C=1.0).fit(X_train_scaled,y_train)\n",
    "model.score(X_train_scaled,y_train)"
   ]
  },
  {
   "cell_type": "code",
   "execution_count": 506,
   "metadata": {},
   "outputs": [
    {
     "name": "stdout",
     "output_type": "stream",
     "text": [
      "[21.5443469]\n",
      "0.8269271617365926\n",
      "0.8538121946397481\n"
     ]
    }
   ],
   "source": [
    "model = LogisticRegressionCV(scoring='roc_auc',n_jobs=-1,cv = 100)\n",
    "model.fit(X_train_scaled,y_train)\n",
    "print(model.C_)\n",
    "print(model.score(X_test_scaled,y_test))\n",
    "print(model.score(X_train_scaled,y_train))"
   ]
  },
  {
   "cell_type": "markdown",
   "metadata": {
    "id": "uVahy6JKEEZQ"
   },
   "source": [
    "Выпишите какое лучшее качество и с какими параметрами вам удалось получить"
   ]
  },
  {
   "cell_type": "markdown",
   "metadata": {},
   "source": [
    "Лучшим результатом на тестовой выборке является 0.8269964259657743 на тренировочной - 0.8538362553027673. При параметре С = 21.5443469"
   ]
  },
  {
   "cell_type": "markdown",
   "metadata": {
    "id": "36729TOQEEZR"
   },
   "source": []
  },
  {
   "cell_type": "markdown",
   "metadata": {
    "id": "BlTeVy7fEEZR"
   },
   "source": [
    "## Применение градиентного бустинга (2 балла)\n",
    "\n",
    "Если вы хотите получить баллы за точный ответ, то стоит попробовать градиентный бустинг. Часто градиентный бустинг с дефолтными параметрами даст вам 80% результата за 0% усилий.\n",
    "\n",
    "Мы будем использовать catboost, поэтому нам не надо кодировать категориальные признаки. catboost сделает это сам (в .fit() надо передать cat_features=cat_cols). А численные признаки нормировать для моделей, основанных на деревьях не нужно.\n",
    "\n",
    "1) Разделите выборку на train/valid. Протестируйте catboost cо стандартными параметрами.\n",
    "\n",
    "2) Протестируйте разные занчения параметроа количества деревьев и learning_rate'а и выберите лучшую по метрике ROC-AUC комбинацию. \n",
    "\n",
    "(Дополнительно) Есть некоторые сложности с тем, чтобы использовать CatBoostClassifier вместе с GridSearchCV, поэтому мы не просим использовать кроссвалидацию. Но можете попробовать)"
   ]
  },
  {
   "cell_type": "code",
   "execution_count": 545,
   "metadata": {
    "id": "Fioxxlp-EEZS"
   },
   "outputs": [],
   "source": [
    "X = pd.concat([data[num_cols], data[cat_cols]], axis=1)\n",
    "y = data[target_col]\n",
    "X_train, X_test, y_train, y_test = train_test_split(X.values, y.values, \n",
    "                                                    train_size=0.8,\n",
    "                                                    random_state=40)"
   ]
  },
  {
   "cell_type": "code",
   "execution_count": 370,
   "metadata": {},
   "outputs": [
    {
     "name": "stdout",
     "output_type": "stream",
     "text": [
      "Collecting catboost\n",
      "  Downloading catboost-1.0.0-cp38-none-manylinux1_x86_64.whl (76.4 MB)\n",
      "\u001b[K     |████████████████████████████████| 76.4 MB 5.2 MB/s eta 0:00:012     |█████████████████▊              | 42.3 MB 5.4 MB/s eta 0:00:07     |█████████████████████████▊      | 61.4 MB 2.3 MB/s eta 0:00:07\n",
      "\u001b[?25hRequirement already satisfied: pandas>=0.24.0 in /home/caprize/anaconda3/lib/python3.8/site-packages (from catboost) (1.1.3)\n",
      "Requirement already satisfied: scipy in /home/caprize/anaconda3/lib/python3.8/site-packages (from catboost) (1.5.2)\n",
      "Requirement already satisfied: numpy>=1.16.0 in /home/caprize/anaconda3/lib/python3.8/site-packages (from catboost) (1.19.2)\n",
      "Requirement already satisfied: six in /home/caprize/anaconda3/lib/python3.8/site-packages (from catboost) (1.15.0)\n",
      "Requirement already satisfied: matplotlib in /home/caprize/anaconda3/lib/python3.8/site-packages (from catboost) (3.3.2)\n",
      "Collecting graphviz\n",
      "  Using cached graphviz-0.17-py3-none-any.whl (18 kB)\n",
      "Requirement already satisfied: pyparsing!=2.0.4,!=2.1.2,!=2.1.6,>=2.0.3 in /home/caprize/anaconda3/lib/python3.8/site-packages (from matplotlib->catboost) (2.4.7)\n",
      "Requirement already satisfied: python-dateutil>=2.1 in /home/caprize/anaconda3/lib/python3.8/site-packages (from matplotlib->catboost) (2.8.1)\n",
      "Requirement already satisfied: pillow>=6.2.0 in /home/caprize/anaconda3/lib/python3.8/site-packages (from matplotlib->catboost) (8.0.1)\n",
      "Requirement already satisfied: kiwisolver>=1.0.1 in /home/caprize/anaconda3/lib/python3.8/site-packages (from matplotlib->catboost) (1.3.0)\n",
      "Requirement already satisfied: numpy>=1.16.0 in /home/caprize/anaconda3/lib/python3.8/site-packages (from catboost) (1.19.2)\n",
      "Requirement already satisfied: certifi>=2020.06.20 in /home/caprize/anaconda3/lib/python3.8/site-packages (from matplotlib->catboost) (2020.11.8)\n",
      "Requirement already satisfied: cycler>=0.10 in /home/caprize/anaconda3/lib/python3.8/site-packages (from matplotlib->catboost) (0.10.0)\n",
      "Requirement already satisfied: six in /home/caprize/anaconda3/lib/python3.8/site-packages (from catboost) (1.15.0)\n",
      "Requirement already satisfied: python-dateutil>=2.1 in /home/caprize/anaconda3/lib/python3.8/site-packages (from matplotlib->catboost) (2.8.1)\n",
      "Requirement already satisfied: numpy>=1.16.0 in /home/caprize/anaconda3/lib/python3.8/site-packages (from catboost) (1.19.2)\n",
      "Requirement already satisfied: pytz>=2017.2 in /home/caprize/anaconda3/lib/python3.8/site-packages (from pandas>=0.24.0->catboost) (2020.4)\n",
      "Collecting plotly\n",
      "  Downloading plotly-5.3.1-py2.py3-none-any.whl (23.9 MB)\n",
      "\u001b[K     |████████████████████████████████| 23.9 MB 5.3 MB/s eta 0:00:01\n",
      "\u001b[?25hRequirement already satisfied: six in /home/caprize/anaconda3/lib/python3.8/site-packages (from catboost) (1.15.0)\n",
      "Requirement already satisfied: six in /home/caprize/anaconda3/lib/python3.8/site-packages (from catboost) (1.15.0)\n",
      "Requirement already satisfied: numpy>=1.16.0 in /home/caprize/anaconda3/lib/python3.8/site-packages (from catboost) (1.19.2)\n",
      "Collecting tenacity>=6.2.0\n",
      "  Downloading tenacity-8.0.1-py3-none-any.whl (24 kB)\n",
      "Installing collected packages: tenacity, plotly, graphviz, catboost\n",
      "Successfully installed catboost-1.0.0 graphviz-0.17 plotly-5.3.1 tenacity-8.0.1\n",
      "Note: you may need to restart the kernel to use updated packages.\n"
     ]
    }
   ],
   "source": [
    "pip install catboost"
   ]
  },
  {
   "cell_type": "code",
   "execution_count": 524,
   "metadata": {},
   "outputs": [],
   "source": [
    "import catboost"
   ]
  },
  {
   "cell_type": "code",
   "execution_count": 525,
   "metadata": {},
   "outputs": [],
   "source": [
    "cat_indexes=[3,4,5,6,7,8,9,10,11,12,13,14,15,16,17,18]"
   ]
  },
  {
   "cell_type": "code",
   "execution_count": null,
   "metadata": {},
   "outputs": [],
   "source": [
    "boosting_model = catboost.CatBoostClassifier(n_estimators=500, eval_metric='AUC',\n",
    "                                             cat_features=cat_indexes,learning_rate=0.02)\n",
    "\n",
    "boosting_model.fit(X_train, y_train)\n",
    "\n",
    "y_train_predicted = boosting_model.predict_proba(X_train)[:, 1]\n",
    "y_test_predicted = boosting_model.predict_proba(X_test)[:, 1]"
   ]
  },
  {
   "cell_type": "code",
   "execution_count": 527,
   "metadata": {},
   "outputs": [
    {
     "name": "stdout",
     "output_type": "stream",
     "text": [
      "0.8715412506565572\n",
      "0.863233240910074\n"
     ]
    }
   ],
   "source": [
    "train_auc = roc_auc_score(y_train, y_train_predicted)\n",
    "test_auc = roc_auc_score(y_test, y_test_predicted)\n",
    "print(train_auc)\n",
    "print(test_auc)"
   ]
  },
  {
   "cell_type": "code",
   "execution_count": 569,
   "metadata": {},
   "outputs": [
    {
     "data": {
      "application/vnd.jupyter.widget-view+json": {
       "model_id": "45b9feb939434f89a658029f127b4b9e",
       "version_major": 2,
       "version_minor": 0
      },
      "text/plain": [
       "MetricVisualizer(layout=Layout(align_self='stretch', height='500px'))"
      ]
     },
     "metadata": {},
     "output_type": "display_data"
    },
    {
     "name": "stdout",
     "output_type": "stream",
     "text": [
      "\n",
      "bestTest = 0.8499646518\n",
      "bestIteration = 173\n",
      "\n",
      "Metric AUC is not calculated on train by default. To calculate this metric on train, add hints=skip_train~false to metric parameters.\n",
      "0:\tloss: 0.8499647\tbest: 0.8499647 (0)\ttotal: 704ms\tremaining: 1m 23s\n",
      "\n",
      "bestTest = 0.8534924001\n",
      "bestIteration = 159\n",
      "\n",
      "Metric AUC is not calculated on train by default. To calculate this metric on train, add hints=skip_train~false to metric parameters.\n",
      "1:\tloss: 0.8534924\tbest: 0.8534924 (1)\ttotal: 1.71s\tremaining: 1m 40s\n",
      "\n",
      "bestTest = 0.8481760339\n",
      "bestIteration = 197\n",
      "\n",
      "Metric AUC is not calculated on train by default. To calculate this metric on train, add hints=skip_train~false to metric parameters.\n",
      "2:\tloss: 0.8481760\tbest: 0.8534924 (1)\ttotal: 2.46s\tremaining: 1m 36s\n",
      "\n",
      "bestTest = 0.8529374337\n",
      "bestIteration = 134\n",
      "\n",
      "Metric AUC is not calculated on train by default. To calculate this metric on train, add hints=skip_train~false to metric parameters.\n",
      "3:\tloss: 0.8529374\tbest: 0.8534924 (1)\ttotal: 3.25s\tremaining: 1m 34s\n",
      "\n",
      "bestTest = 0.8501802757\n",
      "bestIteration = 163\n",
      "\n",
      "Metric AUC is not calculated on train by default. To calculate this metric on train, add hints=skip_train~false to metric parameters.\n",
      "4:\tloss: 0.8501803\tbest: 0.8534924 (1)\ttotal: 3.98s\tremaining: 1m 31s\n",
      "\n",
      "bestTest = 0.8532909155\n",
      "bestIteration = 134\n",
      "\n",
      "Metric AUC is not calculated on train by default. To calculate this metric on train, add hints=skip_train~false to metric parameters.\n",
      "5:\tloss: 0.8532909\tbest: 0.8534924 (1)\ttotal: 4.88s\tremaining: 1m 32s\n",
      "\n",
      "bestTest = 0.8486885825\n",
      "bestIteration = 198\n",
      "\n",
      "Metric AUC is not calculated on train by default. To calculate this metric on train, add hints=skip_train~false to metric parameters.\n",
      "6:\tloss: 0.8486886\tbest: 0.8534924 (1)\ttotal: 5.61s\tremaining: 1m 30s\n",
      "\n",
      "bestTest = 0.8498692117\n",
      "bestIteration = 136\n",
      "\n",
      "Metric AUC is not calculated on train by default. To calculate this metric on train, add hints=skip_train~false to metric parameters.\n",
      "7:\tloss: 0.8498692\tbest: 0.8534924 (1)\ttotal: 6.33s\tremaining: 1m 28s\n",
      "\n",
      "bestTest = 0.8480558501\n",
      "bestIteration = 191\n",
      "\n",
      "Metric AUC is not calculated on train by default. To calculate this metric on train, add hints=skip_train~false to metric parameters.\n",
      "8:\tloss: 0.8480559\tbest: 0.8534924 (1)\ttotal: 7.14s\tremaining: 1m 28s\n",
      "\n",
      "bestTest = 0.8537115589\n",
      "bestIteration = 195\n",
      "\n",
      "Metric AUC is not calculated on train by default. To calculate this metric on train, add hints=skip_train~false to metric parameters.\n",
      "9:\tloss: 0.8537116\tbest: 0.8537116 (9)\ttotal: 7.98s\tremaining: 1m 27s\n",
      "\n",
      "bestTest = 0.8491410392\n",
      "bestIteration = 198\n",
      "\n",
      "Metric AUC is not calculated on train by default. To calculate this metric on train, add hints=skip_train~false to metric parameters.\n",
      "10:\tloss: 0.8491410\tbest: 0.8537116 (9)\ttotal: 8.8s\tremaining: 1m 27s\n",
      "\n",
      "bestTest = 0.8485507246\n",
      "bestIteration = 106\n",
      "\n",
      "Metric AUC is not calculated on train by default. To calculate this metric on train, add hints=skip_train~false to metric parameters.\n",
      "11:\tloss: 0.8485507\tbest: 0.8537116 (9)\ttotal: 9.64s\tremaining: 1m 26s\n",
      "\n",
      "bestTest = 0.8486532344\n",
      "bestIteration = 196\n",
      "\n",
      "Metric AUC is not calculated on train by default. To calculate this metric on train, add hints=skip_train~false to metric parameters.\n",
      "12:\tloss: 0.8486532\tbest: 0.8537116 (9)\ttotal: 10.3s\tremaining: 1m 24s\n",
      "\n",
      "bestTest = 0.8528455285\n",
      "bestIteration = 138\n",
      "\n",
      "Metric AUC is not calculated on train by default. To calculate this metric on train, add hints=skip_train~false to metric parameters.\n",
      "13:\tloss: 0.8528455\tbest: 0.8537116 (9)\ttotal: 11.1s\tremaining: 1m 23s\n",
      "\n",
      "bestTest = 0.8499787911\n",
      "bestIteration = 198\n",
      "\n",
      "Metric AUC is not calculated on train by default. To calculate this metric on train, add hints=skip_train~false to metric parameters.\n",
      "14:\tloss: 0.8499788\tbest: 0.8537116 (9)\ttotal: 11.8s\tremaining: 1m 22s\n",
      "\n",
      "bestTest = 0.8520537292\n",
      "bestIteration = 102\n",
      "\n",
      "Metric AUC is not calculated on train by default. To calculate this metric on train, add hints=skip_train~false to metric parameters.\n",
      "15:\tloss: 0.8520537\tbest: 0.8537116 (9)\ttotal: 12.6s\tremaining: 1m 21s\n",
      "\n",
      "bestTest = 0.8481583598\n",
      "bestIteration = 194\n",
      "\n",
      "Metric AUC is not calculated on train by default. To calculate this metric on train, add hints=skip_train~false to metric parameters.\n",
      "16:\tloss: 0.8481584\tbest: 0.8537116 (9)\ttotal: 13.4s\tremaining: 1m 21s\n",
      "\n",
      "bestTest = 0.8530858961\n",
      "bestIteration = 189\n",
      "\n",
      "Metric AUC is not calculated on train by default. To calculate this metric on train, add hints=skip_train~false to metric parameters.\n",
      "17:\tloss: 0.8530859\tbest: 0.8537116 (9)\ttotal: 14.2s\tremaining: 1m 20s\n",
      "\n",
      "bestTest = 0.8482573347\n",
      "bestIteration = 199\n",
      "\n",
      "Metric AUC is not calculated on train by default. To calculate this metric on train, add hints=skip_train~false to metric parameters.\n",
      "18:\tloss: 0.8482573\tbest: 0.8537116 (9)\ttotal: 14.9s\tremaining: 1m 19s\n",
      "\n",
      "bestTest = 0.8496783316\n",
      "bestIteration = 173\n",
      "\n",
      "Metric AUC is not calculated on train by default. To calculate this metric on train, add hints=skip_train~false to metric parameters.\n",
      "19:\tloss: 0.8496783\tbest: 0.8537116 (9)\ttotal: 15.7s\tremaining: 1m 18s\n",
      "\n",
      "bestTest = 0.8483351007\n",
      "bestIteration = 199\n",
      "\n",
      "Metric AUC is not calculated on train by default. To calculate this metric on train, add hints=skip_train~false to metric parameters.\n",
      "20:\tloss: 0.8483351\tbest: 0.8537116 (9)\ttotal: 16.4s\tremaining: 1m 17s\n",
      "\n",
      "bestTest = 0.8490067162\n",
      "bestIteration = 155\n",
      "\n",
      "Metric AUC is not calculated on train by default. To calculate this metric on train, add hints=skip_train~false to metric parameters.\n",
      "21:\tloss: 0.8490067\tbest: 0.8537116 (9)\ttotal: 17.2s\tremaining: 1m 16s\n",
      "\n",
      "bestTest = 0.8496641923\n",
      "bestIteration = 194\n",
      "\n",
      "Metric AUC is not calculated on train by default. To calculate this metric on train, add hints=skip_train~false to metric parameters.\n",
      "22:\tloss: 0.8496642\tbest: 0.8537116 (9)\ttotal: 18.1s\tremaining: 1m 16s\n",
      "\n",
      "bestTest = 0.8490597384\n",
      "bestIteration = 199\n",
      "\n",
      "Metric AUC is not calculated on train by default. To calculate this metric on train, add hints=skip_train~false to metric parameters.\n",
      "23:\tloss: 0.8490597\tbest: 0.8537116 (9)\ttotal: 18.9s\tremaining: 1m 15s\n",
      "\n",
      "bestTest = 0.8489925769\n",
      "bestIteration = 180\n",
      "\n",
      "Metric AUC is not calculated on train by default. To calculate this metric on train, add hints=skip_train~false to metric parameters.\n",
      "24:\tloss: 0.8489926\tbest: 0.8537116 (9)\ttotal: 19.8s\tremaining: 1m 15s\n",
      "\n",
      "bestTest = 0.8521633086\n",
      "bestIteration = 117\n",
      "\n",
      "Metric AUC is not calculated on train by default. To calculate this metric on train, add hints=skip_train~false to metric parameters.\n",
      "25:\tloss: 0.8521633\tbest: 0.8537116 (9)\ttotal: 20.6s\tremaining: 1m 14s\n",
      "\n",
      "bestTest = 0.848543655\n",
      "bestIteration = 199\n",
      "\n",
      "Metric AUC is not calculated on train by default. To calculate this metric on train, add hints=skip_train~false to metric parameters.\n",
      "26:\tloss: 0.8485437\tbest: 0.8537116 (9)\ttotal: 21.4s\tremaining: 1m 13s\n",
      "\n",
      "bestTest = 0.8516684341\n",
      "bestIteration = 138\n",
      "\n",
      "Metric AUC is not calculated on train by default. To calculate this metric on train, add hints=skip_train~false to metric parameters.\n",
      "27:\tloss: 0.8516684\tbest: 0.8537116 (9)\ttotal: 22.4s\tremaining: 1m 13s\n",
      "\n",
      "bestTest = 0.8490067162\n",
      "bestIteration = 199\n",
      "\n",
      "Metric AUC is not calculated on train by default. To calculate this metric on train, add hints=skip_train~false to metric parameters.\n",
      "28:\tloss: 0.8490067\tbest: 0.8537116 (9)\ttotal: 23.2s\tremaining: 1m 12s\n",
      "\n",
      "bestTest = 0.8517497349\n",
      "bestIteration = 199\n",
      "\n",
      "Metric AUC is not calculated on train by default. To calculate this metric on train, add hints=skip_train~false to metric parameters.\n",
      "29:\tloss: 0.8517497\tbest: 0.8537116 (9)\ttotal: 24.1s\tremaining: 1m 12s\n",
      "\n",
      "bestTest = 0.8484977024\n",
      "bestIteration = 187\n",
      "\n",
      "Metric AUC is not calculated on train by default. To calculate this metric on train, add hints=skip_train~false to metric parameters.\n",
      "30:\tloss: 0.8484977\tbest: 0.8537116 (9)\ttotal: 25.2s\tremaining: 1m 12s\n",
      "\n",
      "bestTest = 0.8494379639\n",
      "bestIteration = 163\n",
      "\n",
      "Metric AUC is not calculated on train by default. To calculate this metric on train, add hints=skip_train~false to metric parameters.\n",
      "31:\tloss: 0.8494380\tbest: 0.8537116 (9)\ttotal: 26.2s\tremaining: 1m 12s\n",
      "\n",
      "bestTest = 0.8492117356\n",
      "bestIteration = 196\n",
      "\n",
      "Metric AUC is not calculated on train by default. To calculate this metric on train, add hints=skip_train~false to metric parameters.\n",
      "32:\tloss: 0.8492117\tbest: 0.8537116 (9)\ttotal: 27.1s\tremaining: 1m 11s\n"
     ]
    },
    {
     "name": "stdout",
     "output_type": "stream",
     "text": [
      "\n",
      "bestTest = 0.8545174973\n",
      "bestIteration = 155\n",
      "\n",
      "Metric AUC is not calculated on train by default. To calculate this metric on train, add hints=skip_train~false to metric parameters.\n",
      "33:\tloss: 0.8545175\tbest: 0.8545175 (33)\ttotal: 27.9s\tremaining: 1m 10s\n",
      "\n",
      "bestTest = 0.8493708024\n",
      "bestIteration = 197\n",
      "\n",
      "Metric AUC is not calculated on train by default. To calculate this metric on train, add hints=skip_train~false to metric parameters.\n",
      "34:\tloss: 0.8493708\tbest: 0.8545175 (33)\ttotal: 28.6s\tremaining: 1m 9s\n",
      "\n",
      "bestTest = 0.8498515376\n",
      "bestIteration = 121\n",
      "\n",
      "Metric AUC is not calculated on train by default. To calculate this metric on train, add hints=skip_train~false to metric parameters.\n",
      "35:\tloss: 0.8498515\tbest: 0.8545175 (33)\ttotal: 29.4s\tremaining: 1m 8s\n",
      "\n",
      "bestTest = 0.8499080947\n",
      "bestIteration = 199\n",
      "\n",
      "Metric AUC is not calculated on train by default. To calculate this metric on train, add hints=skip_train~false to metric parameters.\n",
      "36:\tloss: 0.8499081\tbest: 0.8545175 (33)\ttotal: 30.3s\tremaining: 1m 8s\n",
      "\n",
      "bestTest = 0.8547013079\n",
      "bestIteration = 175\n",
      "\n",
      "Metric AUC is not calculated on train by default. To calculate this metric on train, add hints=skip_train~false to metric parameters.\n",
      "37:\tloss: 0.8547013\tbest: 0.8547013 (37)\ttotal: 31.1s\tremaining: 1m 7s\n",
      "\n",
      "bestTest = 0.848310357\n",
      "bestIteration = 199\n",
      "\n",
      "Metric AUC is not calculated on train by default. To calculate this metric on train, add hints=skip_train~false to metric parameters.\n",
      "38:\tloss: 0.8483104\tbest: 0.8547013 (37)\ttotal: 31.9s\tremaining: 1m 6s\n",
      "\n",
      "bestTest = 0.8517850831\n",
      "bestIteration = 127\n",
      "\n",
      "Metric AUC is not calculated on train by default. To calculate this metric on train, add hints=skip_train~false to metric parameters.\n",
      "39:\tloss: 0.8517851\tbest: 0.8547013 (37)\ttotal: 32.6s\tremaining: 1m 5s\n",
      "\n",
      "bestTest = 0.8477341817\n",
      "bestIteration = 199\n",
      "\n",
      "Metric AUC is not calculated on train by default. To calculate this metric on train, add hints=skip_train~false to metric parameters.\n",
      "40:\tloss: 0.8477342\tbest: 0.8547013 (37)\ttotal: 33.7s\tremaining: 1m 4s\n",
      "\n",
      "bestTest = 0.8446164723\n",
      "bestIteration = 8\n",
      "\n",
      "Metric AUC is not calculated on train by default. To calculate this metric on train, add hints=skip_train~false to metric parameters.\n",
      "41:\tloss: 0.8446165\tbest: 0.8547013 (37)\ttotal: 35.4s\tremaining: 1m 5s\n",
      "\n",
      "bestTest = 0.8482926829\n",
      "bestIteration = 169\n",
      "\n",
      "Metric AUC is not calculated on train by default. To calculate this metric on train, add hints=skip_train~false to metric parameters.\n",
      "42:\tloss: 0.8482927\tbest: 0.8547013 (37)\ttotal: 36.5s\tremaining: 1m 5s\n",
      "\n",
      "bestTest = 0.8493672676\n",
      "bestIteration = 88\n",
      "\n",
      "Metric AUC is not calculated on train by default. To calculate this metric on train, add hints=skip_train~false to metric parameters.\n",
      "43:\tloss: 0.8493673\tbest: 0.8547013 (37)\ttotal: 37.7s\tremaining: 1m 5s\n",
      "\n",
      "bestTest = 0.8504241782\n",
      "bestIteration = 198\n",
      "\n",
      "Metric AUC is not calculated on train by default. To calculate this metric on train, add hints=skip_train~false to metric parameters.\n",
      "44:\tloss: 0.8504242\tbest: 0.8547013 (37)\ttotal: 38.8s\tremaining: 1m 4s\n",
      "\n",
      "bestTest = 0.8487804878\n",
      "bestIteration = 42\n",
      "\n",
      "Metric AUC is not calculated on train by default. To calculate this metric on train, add hints=skip_train~false to metric parameters.\n",
      "45:\tloss: 0.8487805\tbest: 0.8547013 (37)\ttotal: 39.9s\tremaining: 1m 4s\n",
      "\n",
      "bestTest = 0.8493495935\n",
      "bestIteration = 168\n",
      "\n",
      "Metric AUC is not calculated on train by default. To calculate this metric on train, add hints=skip_train~false to metric parameters.\n",
      "46:\tloss: 0.8493496\tbest: 0.8547013 (37)\ttotal: 41s\tremaining: 1m 3s\n",
      "\n",
      "bestTest = 0.8512866737\n",
      "bestIteration = 79\n",
      "\n",
      "Metric AUC is not calculated on train by default. To calculate this metric on train, add hints=skip_train~false to metric parameters.\n",
      "47:\tloss: 0.8512867\tbest: 0.8547013 (37)\ttotal: 42.2s\tremaining: 1m 3s\n",
      "\n",
      "bestTest = 0.8475751149\n",
      "bestIteration = 171\n",
      "\n",
      "Metric AUC is not calculated on train by default. To calculate this metric on train, add hints=skip_train~false to metric parameters.\n",
      "48:\tloss: 0.8475751\tbest: 0.8547013 (37)\ttotal: 43.4s\tremaining: 1m 2s\n",
      "\n",
      "bestTest = 0.8493248498\n",
      "bestIteration = 42\n",
      "\n",
      "Metric AUC is not calculated on train by default. To calculate this metric on train, add hints=skip_train~false to metric parameters.\n",
      "49:\tloss: 0.8493248\tbest: 0.8547013 (37)\ttotal: 44.8s\tremaining: 1m 2s\n",
      "\n",
      "bestTest = 0.8496394486\n",
      "bestIteration = 198\n",
      "\n",
      "Metric AUC is not calculated on train by default. To calculate this metric on train, add hints=skip_train~false to metric parameters.\n",
      "50:\tloss: 0.8496394\tbest: 0.8547013 (37)\ttotal: 46.1s\tremaining: 1m 2s\n",
      "\n",
      "bestTest = 0.8506433369\n",
      "bestIteration = 43\n",
      "\n",
      "Metric AUC is not calculated on train by default. To calculate this metric on train, add hints=skip_train~false to metric parameters.\n",
      "51:\tloss: 0.8506433\tbest: 0.8547013 (37)\ttotal: 47.9s\tremaining: 1m 2s\n",
      "\n",
      "bestTest = 0.8479816189\n",
      "bestIteration = 185\n",
      "\n",
      "Metric AUC is not calculated on train by default. To calculate this metric on train, add hints=skip_train~false to metric parameters.\n",
      "52:\tloss: 0.8479816\tbest: 0.8547013 (37)\ttotal: 49.1s\tremaining: 1m 2s\n",
      "\n",
      "bestTest = 0.8485471898\n",
      "bestIteration = 96\n",
      "\n",
      "Metric AUC is not calculated on train by default. To calculate this metric on train, add hints=skip_train~false to metric parameters.\n",
      "53:\tloss: 0.8485472\tbest: 0.8547013 (37)\ttotal: 50.5s\tremaining: 1m 1s\n",
      "\n",
      "bestTest = 0.84873807\n",
      "bestIteration = 165\n",
      "\n",
      "Metric AUC is not calculated on train by default. To calculate this metric on train, add hints=skip_train~false to metric parameters.\n",
      "54:\tloss: 0.8487381\tbest: 0.8547013 (37)\ttotal: 51.9s\tremaining: 1m 1s\n",
      "\n",
      "bestTest = 0.8508271474\n",
      "bestIteration = 177\n",
      "\n",
      "Metric AUC is not calculated on train by default. To calculate this metric on train, add hints=skip_train~false to metric parameters.\n",
      "55:\tloss: 0.8508271\tbest: 0.8547013 (37)\ttotal: 53.1s\tremaining: 1m\n",
      "\n",
      "bestTest = 0.8480134323\n",
      "bestIteration = 187\n",
      "\n",
      "Metric AUC is not calculated on train by default. To calculate this metric on train, add hints=skip_train~false to metric parameters.\n",
      "56:\tloss: 0.8480134\tbest: 0.8547013 (37)\ttotal: 54.2s\tremaining: 59.9s\n",
      "\n",
      "bestTest = 0.8518734535\n",
      "bestIteration = 53\n",
      "\n",
      "Metric AUC is not calculated on train by default. To calculate this metric on train, add hints=skip_train~false to metric parameters.\n",
      "57:\tloss: 0.8518735\tbest: 0.8547013 (37)\ttotal: 55.3s\tremaining: 59.1s\n",
      "\n",
      "bestTest = 0.8499787911\n",
      "bestIteration = 193\n",
      "\n",
      "Metric AUC is not calculated on train by default. To calculate this metric on train, add hints=skip_train~false to metric parameters.\n",
      "58:\tloss: 0.8499788\tbest: 0.8547013 (37)\ttotal: 56.4s\tremaining: 58.3s\n",
      "\n",
      "bestTest = 0.8533510074\n",
      "bestIteration = 136\n",
      "\n",
      "Metric AUC is not calculated on train by default. To calculate this metric on train, add hints=skip_train~false to metric parameters.\n",
      "59:\tloss: 0.8533510\tbest: 0.8547013 (37)\ttotal: 57.8s\tremaining: 57.8s\n",
      "\n",
      "bestTest = 0.8476033934\n",
      "bestIteration = 155\n",
      "\n",
      "Metric AUC is not calculated on train by default. To calculate this metric on train, add hints=skip_train~false to metric parameters.\n",
      "60:\tloss: 0.8476034\tbest: 0.8547013 (37)\ttotal: 58.8s\tremaining: 56.9s\n",
      "\n",
      "bestTest = 0.8476952987\n",
      "bestIteration = 90\n",
      "\n",
      "Metric AUC is not calculated on train by default. To calculate this metric on train, add hints=skip_train~false to metric parameters.\n",
      "61:\tloss: 0.8476953\tbest: 0.8547013 (37)\ttotal: 1m\tremaining: 56.2s\n",
      "\n",
      "bestTest = 0.848854719\n",
      "bestIteration = 192\n",
      "\n",
      "Metric AUC is not calculated on train by default. To calculate this metric on train, add hints=skip_train~false to metric parameters.\n",
      "62:\tloss: 0.8488547\tbest: 0.8547013 (37)\ttotal: 1m 1s\tremaining: 55.4s\n",
      "\n",
      "bestTest = 0.8522057264\n",
      "bestIteration = 86\n",
      "\n",
      "Metric AUC is not calculated on train by default. To calculate this metric on train, add hints=skip_train~false to metric parameters.\n",
      "63:\tloss: 0.8522057\tbest: 0.8547013 (37)\ttotal: 1m 2s\tremaining: 54.6s\n",
      "\n",
      "bestTest = 0.8498727466\n",
      "bestIteration = 190\n",
      "\n",
      "Metric AUC is not calculated on train by default. To calculate this metric on train, add hints=skip_train~false to metric parameters.\n",
      "64:\tloss: 0.8498727\tbest: 0.8547013 (37)\ttotal: 1m 3s\tremaining: 53.7s\n",
      "\n",
      "bestTest = 0.8477695299\n",
      "bestIteration = 189\n",
      "\n",
      "Metric AUC is not calculated on train by default. To calculate this metric on train, add hints=skip_train~false to metric parameters.\n",
      "65:\tloss: 0.8477695\tbest: 0.8547013 (37)\ttotal: 1m 4s\tremaining: 53.1s\n"
     ]
    },
    {
     "name": "stdout",
     "output_type": "stream",
     "text": [
      "\n",
      "bestTest = 0.8498656769\n",
      "bestIteration = 185\n",
      "\n",
      "Metric AUC is not calculated on train by default. To calculate this metric on train, add hints=skip_train~false to metric parameters.\n",
      "66:\tloss: 0.8498657\tbest: 0.8547013 (37)\ttotal: 1m 6s\tremaining: 52.5s\n",
      "\n",
      "bestTest = 0.8506362672\n",
      "bestIteration = 145\n",
      "\n",
      "Metric AUC is not calculated on train by default. To calculate this metric on train, add hints=skip_train~false to metric parameters.\n",
      "67:\tloss: 0.8506363\tbest: 0.8547013 (37)\ttotal: 1m 7s\tremaining: 51.9s\n",
      "\n",
      "bestTest = 0.8459314245\n",
      "bestIteration = 199\n",
      "\n",
      "Metric AUC is not calculated on train by default. To calculate this metric on train, add hints=skip_train~false to metric parameters.\n",
      "68:\tloss: 0.8459314\tbest: 0.8547013 (37)\ttotal: 1m 9s\tremaining: 51.2s\n",
      "\n",
      "bestTest = 0.8527324143\n",
      "bestIteration = 115\n",
      "\n",
      "Metric AUC is not calculated on train by default. To calculate this metric on train, add hints=skip_train~false to metric parameters.\n",
      "69:\tloss: 0.8527324\tbest: 0.8547013 (37)\ttotal: 1m 10s\tremaining: 50.4s\n",
      "\n",
      "bestTest = 0.8487557441\n",
      "bestIteration = 198\n",
      "\n",
      "Metric AUC is not calculated on train by default. To calculate this metric on train, add hints=skip_train~false to metric parameters.\n",
      "70:\tloss: 0.8487557\tbest: 0.8547013 (37)\ttotal: 1m 11s\tremaining: 49.4s\n",
      "\n",
      "bestTest = 0.8522092612\n",
      "bestIteration = 111\n",
      "\n",
      "Metric AUC is not calculated on train by default. To calculate this metric on train, add hints=skip_train~false to metric parameters.\n",
      "71:\tloss: 0.8522093\tbest: 0.8547013 (37)\ttotal: 1m 13s\tremaining: 48.8s\n",
      "\n",
      "bestTest = 0.847787204\n",
      "bestIteration = 23\n",
      "\n",
      "Metric AUC is not calculated on train by default. To calculate this metric on train, add hints=skip_train~false to metric parameters.\n",
      "72:\tloss: 0.8477872\tbest: 0.8547013 (37)\ttotal: 1m 14s\tremaining: 48s\n",
      "\n",
      "bestTest = 0.8491375044\n",
      "bestIteration = 175\n",
      "\n",
      "Metric AUC is not calculated on train by default. To calculate this metric on train, add hints=skip_train~false to metric parameters.\n",
      "73:\tloss: 0.8491375\tbest: 0.8547013 (37)\ttotal: 1m 15s\tremaining: 47.1s\n",
      "\n",
      "bestTest = 0.8487203959\n",
      "bestIteration = 191\n",
      "\n",
      "Metric AUC is not calculated on train by default. To calculate this metric on train, add hints=skip_train~false to metric parameters.\n",
      "74:\tloss: 0.8487204\tbest: 0.8547013 (37)\ttotal: 1m 17s\tremaining: 46.3s\n",
      "\n",
      "bestTest = 0.8490703429\n",
      "bestIteration = 54\n",
      "\n",
      "Metric AUC is not calculated on train by default. To calculate this metric on train, add hints=skip_train~false to metric parameters.\n",
      "75:\tloss: 0.8490703\tbest: 0.8547013 (37)\ttotal: 1m 18s\tremaining: 45.4s\n",
      "\n",
      "bestTest = 0.8485012372\n",
      "bestIteration = 178\n",
      "\n",
      "Metric AUC is not calculated on train by default. To calculate this metric on train, add hints=skip_train~false to metric parameters.\n",
      "76:\tloss: 0.8485012\tbest: 0.8547013 (37)\ttotal: 1m 19s\tremaining: 44.4s\n",
      "\n",
      "bestTest = 0.8539095087\n",
      "bestIteration = 168\n",
      "\n",
      "Metric AUC is not calculated on train by default. To calculate this metric on train, add hints=skip_train~false to metric parameters.\n",
      "77:\tloss: 0.8539095\tbest: 0.8547013 (37)\ttotal: 1m 20s\tremaining: 43.5s\n",
      "\n",
      "bestTest = 0.8477553906\n",
      "bestIteration = 198\n",
      "\n",
      "Metric AUC is not calculated on train by default. To calculate this metric on train, add hints=skip_train~false to metric parameters.\n",
      "78:\tloss: 0.8477554\tbest: 0.8547013 (37)\ttotal: 1m 21s\tremaining: 42.5s\n",
      "\n",
      "bestTest = 0.8514422057\n",
      "bestIteration = 85\n",
      "\n",
      "Metric AUC is not calculated on train by default. To calculate this metric on train, add hints=skip_train~false to metric parameters.\n",
      "79:\tloss: 0.8514422\tbest: 0.8547013 (37)\ttotal: 1m 23s\tremaining: 41.5s\n",
      "\n",
      "bestTest = 0.8369812655\n",
      "bestIteration = 7\n",
      "\n",
      "Metric AUC is not calculated on train by default. To calculate this metric on train, add hints=skip_train~false to metric parameters.\n",
      "80:\tloss: 0.8369813\tbest: 0.8547013 (37)\ttotal: 1m 25s\tremaining: 41.2s\n",
      "\n",
      "bestTest = 0.8306150583\n",
      "bestIteration = 6\n",
      "\n",
      "Metric AUC is not calculated on train by default. To calculate this metric on train, add hints=skip_train~false to metric parameters.\n",
      "81:\tloss: 0.8306151\tbest: 0.8547013 (37)\ttotal: 1m 28s\tremaining: 41.1s\n",
      "\n",
      "bestTest = 0.8442170378\n",
      "bestIteration = 13\n",
      "\n",
      "Metric AUC is not calculated on train by default. To calculate this metric on train, add hints=skip_train~false to metric parameters.\n",
      "82:\tloss: 0.8442170\tbest: 0.8547013 (37)\ttotal: 1m 31s\tremaining: 40.7s\n",
      "\n",
      "bestTest = 0.833669141\n",
      "bestIteration = 4\n",
      "\n",
      "Metric AUC is not calculated on train by default. To calculate this metric on train, add hints=skip_train~false to metric parameters.\n",
      "83:\tloss: 0.8336691\tbest: 0.8547013 (37)\ttotal: 1m 34s\tremaining: 40.5s\n",
      "\n",
      "bestTest = 0.8391056911\n",
      "bestIteration = 154\n",
      "\n",
      "Metric AUC is not calculated on train by default. To calculate this metric on train, add hints=skip_train~false to metric parameters.\n",
      "84:\tloss: 0.8391057\tbest: 0.8547013 (37)\ttotal: 1m 37s\tremaining: 40.1s\n",
      "\n",
      "bestTest = 0.8347543302\n",
      "bestIteration = 35\n",
      "\n",
      "Metric AUC is not calculated on train by default. To calculate this metric on train, add hints=skip_train~false to metric parameters.\n",
      "85:\tloss: 0.8347543\tbest: 0.8547013 (37)\ttotal: 1m 41s\tremaining: 40s\n",
      "\n",
      "bestTest = 0.8405797101\n",
      "bestIteration = 117\n",
      "\n",
      "Metric AUC is not calculated on train by default. To calculate this metric on train, add hints=skip_train~false to metric parameters.\n",
      "86:\tloss: 0.8405797\tbest: 0.8547013 (37)\ttotal: 1m 44s\tremaining: 39.6s\n",
      "\n",
      "bestTest = 0.8339766702\n",
      "bestIteration = 4\n",
      "\n",
      "Metric AUC is not calculated on train by default. To calculate this metric on train, add hints=skip_train~false to metric parameters.\n",
      "87:\tloss: 0.8339767\tbest: 0.8547013 (37)\ttotal: 1m 47s\tremaining: 39.2s\n",
      "\n",
      "bestTest = 0.8449346059\n",
      "bestIteration = 64\n",
      "\n",
      "Metric AUC is not calculated on train by default. To calculate this metric on train, add hints=skip_train~false to metric parameters.\n",
      "88:\tloss: 0.8449346\tbest: 0.8547013 (37)\ttotal: 1m 50s\tremaining: 38.7s\n",
      "\n",
      "bestTest = 0.8426829268\n",
      "bestIteration = 21\n",
      "\n",
      "Metric AUC is not calculated on train by default. To calculate this metric on train, add hints=skip_train~false to metric parameters.\n",
      "89:\tloss: 0.8426829\tbest: 0.8547013 (37)\ttotal: 1m 54s\tremaining: 38.3s\n",
      "\n",
      "bestTest = 0.8460480735\n",
      "bestIteration = 31\n",
      "\n",
      "Metric AUC is not calculated on train by default. To calculate this metric on train, add hints=skip_train~false to metric parameters.\n",
      "90:\tloss: 0.8460481\tbest: 0.8547013 (37)\ttotal: 1m 58s\tremaining: 37.6s\n",
      "\n",
      "bestTest = 0.8358925415\n",
      "bestIteration = 90\n",
      "\n",
      "Metric AUC is not calculated on train by default. To calculate this metric on train, add hints=skip_train~false to metric parameters.\n",
      "91:\tloss: 0.8358925\tbest: 0.8547013 (37)\ttotal: 2m 1s\tremaining: 37.1s\n",
      "\n",
      "bestTest = 0.8413856486\n",
      "bestIteration = 5\n",
      "\n",
      "Metric AUC is not calculated on train by default. To calculate this metric on train, add hints=skip_train~false to metric parameters.\n",
      "92:\tloss: 0.8413856\tbest: 0.8547013 (37)\ttotal: 2m 4s\tremaining: 36.3s\n",
      "\n",
      "bestTest = 0.8413290916\n",
      "bestIteration = 6\n",
      "\n",
      "Metric AUC is not calculated on train by default. To calculate this metric on train, add hints=skip_train~false to metric parameters.\n",
      "93:\tloss: 0.8413291\tbest: 0.8547013 (37)\ttotal: 2m 9s\tremaining: 35.8s\n",
      "\n",
      "bestTest = 0.8445881937\n",
      "bestIteration = 13\n",
      "\n",
      "Metric AUC is not calculated on train by default. To calculate this metric on train, add hints=skip_train~false to metric parameters.\n",
      "94:\tloss: 0.8445882\tbest: 0.8547013 (37)\ttotal: 2m 13s\tremaining: 35.1s\n",
      "\n",
      "bestTest = 0.8367267586\n",
      "bestIteration = 24\n",
      "\n",
      "Metric AUC is not calculated on train by default. To calculate this metric on train, add hints=skip_train~false to metric parameters.\n",
      "95:\tloss: 0.8367268\tbest: 0.8547013 (37)\ttotal: 2m 17s\tremaining: 34.4s\n",
      "\n",
      "bestTest = 0.8408483563\n",
      "bestIteration = 158\n",
      "\n",
      "Metric AUC is not calculated on train by default. To calculate this metric on train, add hints=skip_train~false to metric parameters.\n",
      "96:\tloss: 0.8408484\tbest: 0.8547013 (37)\ttotal: 2m 21s\tremaining: 33.5s\n",
      "\n",
      "bestTest = 0.8401449275\n",
      "bestIteration = 7\n",
      "\n",
      "Metric AUC is not calculated on train by default. To calculate this metric on train, add hints=skip_train~false to metric parameters.\n",
      "97:\tloss: 0.8401449\tbest: 0.8547013 (37)\ttotal: 2m 25s\tremaining: 32.8s\n",
      "\n",
      "bestTest = 0.8429480382\n",
      "bestIteration = 33\n",
      "\n",
      "Metric AUC is not calculated on train by default. To calculate this metric on train, add hints=skip_train~false to metric parameters.\n",
      "98:\tloss: 0.8429480\tbest: 0.8547013 (37)\ttotal: 2m 29s\tremaining: 31.8s\n"
     ]
    },
    {
     "name": "stdout",
     "output_type": "stream",
     "text": [
      "\n",
      "bestTest = 0.8408554259\n",
      "bestIteration = 28\n",
      "\n",
      "Metric AUC is not calculated on train by default. To calculate this metric on train, add hints=skip_train~false to metric parameters.\n",
      "99:\tloss: 0.8408554\tbest: 0.8547013 (37)\ttotal: 2m 35s\tremaining: 31s\n",
      "\n",
      "bestTest = 0.8425980912\n",
      "bestIteration = 16\n",
      "\n",
      "Metric AUC is not calculated on train by default. To calculate this metric on train, add hints=skip_train~false to metric parameters.\n",
      "100:\tloss: 0.8425981\tbest: 0.8547013 (37)\ttotal: 2m 39s\tremaining: 30.1s\n",
      "\n",
      "bestTest = 0.8391481089\n",
      "bestIteration = 10\n",
      "\n",
      "Metric AUC is not calculated on train by default. To calculate this metric on train, add hints=skip_train~false to metric parameters.\n",
      "101:\tloss: 0.8391481\tbest: 0.8547013 (37)\ttotal: 2m 45s\tremaining: 29.2s\n",
      "\n",
      "bestTest = 0.8417179215\n",
      "bestIteration = 5\n",
      "\n",
      "Metric AUC is not calculated on train by default. To calculate this metric on train, add hints=skip_train~false to metric parameters.\n",
      "102:\tloss: 0.8417179\tbest: 0.8547013 (37)\ttotal: 2m 50s\tremaining: 28.1s\n",
      "\n",
      "bestTest = 0.8390986214\n",
      "bestIteration = 10\n",
      "\n",
      "Metric AUC is not calculated on train by default. To calculate this metric on train, add hints=skip_train~false to metric parameters.\n",
      "103:\tloss: 0.8390986\tbest: 0.8547013 (37)\ttotal: 2m 56s\tremaining: 27.1s\n",
      "\n",
      "bestTest = 0.8417815483\n",
      "bestIteration = 5\n",
      "\n",
      "Metric AUC is not calculated on train by default. To calculate this metric on train, add hints=skip_train~false to metric parameters.\n",
      "104:\tloss: 0.8417815\tbest: 0.8547013 (37)\ttotal: 3m 1s\tremaining: 25.9s\n",
      "\n",
      "bestTest = 0.8391339696\n",
      "bestIteration = 10\n",
      "\n",
      "Metric AUC is not calculated on train by default. To calculate this metric on train, add hints=skip_train~false to metric parameters.\n",
      "105:\tloss: 0.8391340\tbest: 0.8547013 (37)\ttotal: 3m 6s\tremaining: 24.7s\n",
      "\n",
      "bestTest = 0.8434464475\n",
      "bestIteration = 17\n",
      "\n",
      "Metric AUC is not calculated on train by default. To calculate this metric on train, add hints=skip_train~false to metric parameters.\n",
      "106:\tloss: 0.8434464\tbest: 0.8547013 (37)\ttotal: 3m 10s\tremaining: 23.2s\n",
      "\n",
      "bestTest = 0.8392895016\n",
      "bestIteration = 10\n",
      "\n",
      "Metric AUC is not calculated on train by default. To calculate this metric on train, add hints=skip_train~false to metric parameters.\n",
      "107:\tloss: 0.8392895\tbest: 0.8547013 (37)\ttotal: 3m 15s\tremaining: 21.7s\n",
      "\n",
      "bestTest = 0.8428419936\n",
      "bestIteration = 179\n",
      "\n",
      "Metric AUC is not calculated on train by default. To calculate this metric on train, add hints=skip_train~false to metric parameters.\n",
      "108:\tloss: 0.8428420\tbest: 0.8547013 (37)\ttotal: 3m 18s\tremaining: 20.1s\n",
      "\n",
      "bestTest = 0.839282432\n",
      "bestIteration = 10\n",
      "\n",
      "Metric AUC is not calculated on train by default. To calculate this metric on train, add hints=skip_train~false to metric parameters.\n",
      "109:\tloss: 0.8392824\tbest: 0.8547013 (37)\ttotal: 3m 23s\tremaining: 18.5s\n",
      "\n",
      "bestTest = 0.8426687876\n",
      "bestIteration = 59\n",
      "\n",
      "Metric AUC is not calculated on train by default. To calculate this metric on train, add hints=skip_train~false to metric parameters.\n",
      "110:\tloss: 0.8426688\tbest: 0.8547013 (37)\ttotal: 3m 26s\tremaining: 16.8s\n",
      "\n",
      "bestTest = 0.8393248498\n",
      "bestIteration = 10\n",
      "\n",
      "Metric AUC is not calculated on train by default. To calculate this metric on train, add hints=skip_train~false to metric parameters.\n",
      "111:\tloss: 0.8393248\tbest: 0.8547013 (37)\ttotal: 3m 31s\tremaining: 15.1s\n",
      "\n",
      "bestTest = 0.847826087\n",
      "bestIteration = 9\n",
      "\n",
      "Metric AUC is not calculated on train by default. To calculate this metric on train, add hints=skip_train~false to metric parameters.\n",
      "112:\tloss: 0.8478261\tbest: 0.8547013 (37)\ttotal: 3m 34s\tremaining: 13.3s\n",
      "\n",
      "bestTest = 0.8393177801\n",
      "bestIteration = 10\n",
      "\n",
      "Metric AUC is not calculated on train by default. To calculate this metric on train, add hints=skip_train~false to metric parameters.\n",
      "113:\tloss: 0.8393178\tbest: 0.8547013 (37)\ttotal: 3m 38s\tremaining: 11.5s\n",
      "\n",
      "bestTest = 0.8432131495\n",
      "bestIteration = 40\n",
      "\n",
      "Metric AUC is not calculated on train by default. To calculate this metric on train, add hints=skip_train~false to metric parameters.\n",
      "114:\tloss: 0.8432131\tbest: 0.8547013 (37)\ttotal: 3m 42s\tremaining: 9.68s\n",
      "\n",
      "bestTest = 0.8393531283\n",
      "bestIteration = 12\n",
      "\n",
      "Metric AUC is not calculated on train by default. To calculate this metric on train, add hints=skip_train~false to metric parameters.\n",
      "115:\tloss: 0.8393531\tbest: 0.8547013 (37)\ttotal: 3m 47s\tremaining: 7.83s\n",
      "\n",
      "bestTest = 0.8432732414\n",
      "bestIteration = 19\n",
      "\n",
      "Metric AUC is not calculated on train by default. To calculate this metric on train, add hints=skip_train~false to metric parameters.\n",
      "116:\tloss: 0.8432732\tbest: 0.8547013 (37)\ttotal: 3m 50s\tremaining: 5.92s\n",
      "\n",
      "bestTest = 0.8400459526\n",
      "bestIteration = 12\n",
      "\n",
      "Metric AUC is not calculated on train by default. To calculate this metric on train, add hints=skip_train~false to metric parameters.\n",
      "117:\tloss: 0.8400460\tbest: 0.8547013 (37)\ttotal: 3m 55s\tremaining: 3.99s\n",
      "\n",
      "bestTest = 0.8430116649\n",
      "bestIteration = 122\n",
      "\n",
      "Metric AUC is not calculated on train by default. To calculate this metric on train, add hints=skip_train~false to metric parameters.\n",
      "118:\tloss: 0.8430117\tbest: 0.8547013 (37)\ttotal: 3m 59s\tremaining: 2.01s\n",
      "\n",
      "bestTest = 0.843068222\n",
      "bestIteration = 39\n",
      "\n",
      "Metric AUC is not calculated on train by default. To calculate this metric on train, add hints=skip_train~false to metric parameters.\n",
      "119:\tloss: 0.8430682\tbest: 0.8547013 (37)\ttotal: 4m 4s\tremaining: 0us\n",
      "Estimating final quality...\n",
      "Training on fold [0/3]\n",
      "\n",
      "bestTest = 0.8482844731\n",
      "bestIteration = 138\n",
      "\n",
      "Training on fold [1/3]\n",
      "\n",
      "bestTest = 0.8590120791\n",
      "bestIteration = 95\n",
      "\n",
      "Training on fold [2/3]\n",
      "\n",
      "bestTest = 0.8397888839\n",
      "bestIteration = 65\n",
      "\n"
     ]
    }
   ],
   "source": [
    "boosting_model_grid = catboost.CatBoostClassifier(n_estimators=200, silent=True,\n",
    "                                             cat_features=cat_indexes,\n",
    "                                             eval_metric='AUC')\n",
    "model1 = boosting_model_grid.grid_search({'learning_rate': [0.03, 0.1],\n",
    "                           'depth': [4, 6, 10],\n",
    "                           'l2_leaf_reg': np.linspace(0, 1, 20)}, \n",
    "                           X_train, \n",
    "                           y_train, plot=True, refit=True)"
   ]
  },
  {
   "cell_type": "code",
   "execution_count": 558,
   "metadata": {},
   "outputs": [
    {
     "data": {
      "text/plain": [
       "0.8312426035502959"
      ]
     },
     "execution_count": 558,
     "metadata": {},
     "output_type": "execute_result"
    }
   ],
   "source": [
    "boosting_model_grid.score(X_train,y_train)"
   ]
  },
  {
   "cell_type": "code",
   "execution_count": 570,
   "metadata": {},
   "outputs": [
    {
     "data": {
      "text/plain": [
       "<catboost.core.CatBoostClassifier at 0x7f26f92961f0>"
      ]
     },
     "execution_count": 570,
     "metadata": {},
     "output_type": "execute_result"
    }
   ],
   "source": [
    "boosting_model_grid = catboost.CatBoostClassifier(n_estimators=200, silent=True,\n",
    "                                             cat_features=cat_indexes,\n",
    "                                             eval_metric='AUC',depth=4,learning_rate=0.1,l2_leaf_reg=0.94536)\n",
    "boosting_model_grid.fit(X_train, y_train)"
   ]
  },
  {
   "cell_type": "code",
   "execution_count": 571,
   "metadata": {},
   "outputs": [
    {
     "name": "stdout",
     "output_type": "stream",
     "text": [
      "0.8765185445136662\n",
      "0.8367245634545084\n"
     ]
    }
   ],
   "source": [
    "y_train_predicted = boosting_model_grid.predict_proba(X_train)[:, 1]\n",
    "y_test_predicted = boosting_model_grid.predict_proba(X_test)[:, 1]\n",
    "train_auc = roc_auc_score(y_train, y_train_predicted)\n",
    "test_auc = roc_auc_score(y_test, y_test_predicted)\n",
    "print(train_auc)\n",
    "print(test_auc)"
   ]
  },
  {
   "cell_type": "markdown",
   "metadata": {
    "id": "rf4Kjt96EEZU"
   },
   "source": [
    "Выпишите какое лучшее качество и с какими параметрами вам удалось получить"
   ]
  },
  {
   "cell_type": "markdown",
   "metadata": {
    "id": "d2d9GolXEEZV"
   },
   "source": [
    "Лучшее качество на тестовой выборке 0.8367245634545084 с параметрами: depth=4,learning_rate=0.1,l2_leaf_reg=0.94536"
   ]
  },
  {
   "cell_type": "markdown",
   "metadata": {
    "id": "dDMXbvNZEEZV"
   },
   "source": [
    "# Предсказания"
   ]
  },
  {
   "cell_type": "code",
   "execution_count": 532,
   "metadata": {
    "id": "G_P4wFNaEEZW",
    "outputId": "1fba5dfc-88e4-49e3-ed8a-afe21ae3325a"
   },
   "outputs": [],
   "source": [
    "best_model = boosting_model_grid"
   ]
  },
  {
   "cell_type": "code",
   "execution_count": 574,
   "metadata": {
    "id": "FfSufx0CEEZZ"
   },
   "outputs": [],
   "source": [
    "X_test = pd.read_csv('/home/caprize/Загрузки/dls_first/advanced-dls-spring-2021/test.csv')\n",
    "submission = pd.read_csv('/home/caprize/Загрузки/dls_first/advanced-dls-spring-2021/submission.csv')\n",
    "\n",
    "submission['Churn'] = 1-best_model.predict_proba(X_test)\n",
    "submission.to_csv('/home/caprize/Загрузки/dls_first/advanced-dls-spring-2021/my_submission.csv',index=False)"
   ]
  },
  {
   "cell_type": "markdown",
   "metadata": {
    "id": "mkxjbGkVEEZc"
   },
   "source": [
    "# Kaggle (5 баллов)\n",
    "\n",
    "Как выставить баллы:\n",
    "\n",
    "1) 1 >= roc auc > 0.84 это 5 баллов\n",
    "\n",
    "2) 0.84 >= roc auc > 0.7 это 3 балла\n",
    "\n",
    "3) 0.7 >= roc auc > 0.6 это 1 балл\n",
    "\n",
    "4) 0.6 >= roc auc это 0 баллов\n",
    "\n",
    "\n",
    "Для выполнения задания необходимо выполнить следующие шаги.\n",
    "* Зарегистрироваться на платформе [kaggle.com](kaggle.com). Процесс выставления оценок будет проходить при подведении итогового рейтинга. Пожалуйста, укажите во вкладке Team -> Team name свои имя и фамилию в формате Имя_Фамилия (важно, чтобы имя и фамилия совпадали с данными на Stepik).\n",
    "* Обучить модель, получить файл с ответами в формате .csv и сдать его в конкурс. Пробуйте и экспериментируйте. Обратите внимание, что вы можете выполнять до 20 попыток сдачи на kaggle в день.\n",
    "* После окончания соревнования отправить в итоговый ноутбук с решением на степик. \n",
    "* После дедлайна проверьте посылки других участников по критериям. Для этого надо зайти на степик, скачать их ноутбук и проверить скор в соревновании."
   ]
  }
 ],
 "metadata": {
  "colab": {
   "collapsed_sections": [],
   "name": "baseline.ipynb",
   "provenance": []
  },
  "kernelspec": {
   "display_name": "Python 3 (ipykernel)",
   "language": "python",
   "name": "python3"
  },
  "language_info": {
   "codemirror_mode": {
    "name": "ipython",
    "version": 3
   },
   "file_extension": ".py",
   "mimetype": "text/x-python",
   "name": "python",
   "nbconvert_exporter": "python",
   "pygments_lexer": "ipython3",
   "version": "3.9.7"
  }
 },
 "nbformat": 4,
 "nbformat_minor": 1
}
